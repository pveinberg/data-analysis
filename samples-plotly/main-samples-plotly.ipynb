{
 "cells": [
  {
   "cell_type": "markdown",
   "metadata": {},
   "source": [
    "# Samples of charts uning `plotly`\n",
    "\n",
    "The `plotly` charts can't been showing in Ipython files on Github or Gitlab. The result of these scripts are showing in other [report](./report.md)"
   ]
  },
  {
   "cell_type": "markdown",
   "metadata": {},
   "source": [
    "### Imports"
   ]
  },
  {
   "cell_type": "code",
   "execution_count": 1,
   "metadata": {},
   "outputs": [
    {
     "data": {
      "text/plain": [
       "'3.10.12 (main, Jun 11 2023, 05:26:28) [GCC 11.4.0]'"
      ]
     },
     "execution_count": 1,
     "metadata": {},
     "output_type": "execute_result"
    }
   ],
   "source": [
    "import pandas as pd\n",
    "import numpy as np\n",
    "import plotly.express as px\n",
    "import plotly.io as pio \n",
    "import plotly.graph_objects as go\n",
    "import sys\n",
    "\n",
    "sys.version"
   ]
  },
  {
   "cell_type": "markdown",
   "metadata": {},
   "source": [
    "### Configs"
   ]
  },
  {
   "cell_type": "code",
   "execution_count": 2,
   "metadata": {},
   "outputs": [],
   "source": [
    "persons_file = './datasets/persons.csv'\n",
    "holidays_file = './datasets/holidays.csv'\n",
    "\n",
    "images_output = './images'\n",
    "\n",
    "labels_dict = {\n",
    "    'gender': 'Gender',\n",
    "    'height': 'Height (meters)',\n",
    "    'weight_kg': 'Weigth (Kg)',\n",
    "    'age': 'Age (years)', \n",
    "    'Pib per cápita': 'GDP per capita (Millon USD)',\n",
    "    'Región': 'Region',\n",
    "    'Dias Festivos/año': 'holidays by year',\n",
    "    'Ranking felicidad': 'Happiness Ranking'\n",
    "}\n",
    "\n",
    "pio.templates.default = 'plotly_white'\n"
   ]
  },
  {
   "cell_type": "markdown",
   "metadata": {},
   "source": [
    "## Persons\n",
    "\n",
    "### Load data\n",
    "\n",
    "A datasource with name, height, weight (in kilograms), gender and age. "
   ]
  },
  {
   "cell_type": "code",
   "execution_count": 3,
   "metadata": {},
   "outputs": [
    {
     "name": "stdout",
     "output_type": "stream",
     "text": [
      "Shape:  (7, 5)\n",
      "Fields:  Index(['name', 'height', 'weight_kg', 'gender', 'age'], dtype='object')\n"
     ]
    }
   ],
   "source": [
    "data = pd.read_csv(persons_file)\n",
    "\n",
    "print(\"Shape: \", data.shape)\n",
    "print(\"Fields: \", data.columns)"
   ]
  },
  {
   "cell_type": "code",
   "execution_count": 4,
   "metadata": {},
   "outputs": [
    {
     "data": {
      "text/html": [
       "<div>\n",
       "<style scoped>\n",
       "    .dataframe tbody tr th:only-of-type {\n",
       "        vertical-align: middle;\n",
       "    }\n",
       "\n",
       "    .dataframe tbody tr th {\n",
       "        vertical-align: top;\n",
       "    }\n",
       "\n",
       "    .dataframe thead th {\n",
       "        text-align: right;\n",
       "    }\n",
       "</style>\n",
       "<table border=\"1\" class=\"dataframe\">\n",
       "  <thead>\n",
       "    <tr style=\"text-align: right;\">\n",
       "      <th></th>\n",
       "      <th>height</th>\n",
       "      <th>weight_kg</th>\n",
       "      <th>gender</th>\n",
       "      <th>age</th>\n",
       "    </tr>\n",
       "  </thead>\n",
       "  <tbody>\n",
       "    <tr>\n",
       "      <th>count</th>\n",
       "      <td>7.000000</td>\n",
       "      <td>7.000000</td>\n",
       "      <td>7.000000</td>\n",
       "      <td>7.000000</td>\n",
       "    </tr>\n",
       "    <tr>\n",
       "      <th>mean</th>\n",
       "      <td>1.782857</td>\n",
       "      <td>74.000000</td>\n",
       "      <td>0.428571</td>\n",
       "      <td>34.714286</td>\n",
       "    </tr>\n",
       "    <tr>\n",
       "      <th>std</th>\n",
       "      <td>0.066261</td>\n",
       "      <td>5.066228</td>\n",
       "      <td>0.534522</td>\n",
       "      <td>3.352327</td>\n",
       "    </tr>\n",
       "    <tr>\n",
       "      <th>min</th>\n",
       "      <td>1.680000</td>\n",
       "      <td>68.000000</td>\n",
       "      <td>0.000000</td>\n",
       "      <td>30.000000</td>\n",
       "    </tr>\n",
       "    <tr>\n",
       "      <th>25%</th>\n",
       "      <td>1.745000</td>\n",
       "      <td>71.500000</td>\n",
       "      <td>0.000000</td>\n",
       "      <td>32.500000</td>\n",
       "    </tr>\n",
       "    <tr>\n",
       "      <th>50%</th>\n",
       "      <td>1.770000</td>\n",
       "      <td>73.000000</td>\n",
       "      <td>0.000000</td>\n",
       "      <td>35.000000</td>\n",
       "    </tr>\n",
       "    <tr>\n",
       "      <th>75%</th>\n",
       "      <td>1.840000</td>\n",
       "      <td>75.000000</td>\n",
       "      <td>1.000000</td>\n",
       "      <td>37.000000</td>\n",
       "    </tr>\n",
       "    <tr>\n",
       "      <th>max</th>\n",
       "      <td>1.860000</td>\n",
       "      <td>84.000000</td>\n",
       "      <td>1.000000</td>\n",
       "      <td>39.000000</td>\n",
       "    </tr>\n",
       "  </tbody>\n",
       "</table>\n",
       "</div>"
      ],
      "text/plain": [
       "         height  weight_kg    gender        age\n",
       "count  7.000000   7.000000  7.000000   7.000000\n",
       "mean   1.782857  74.000000  0.428571  34.714286\n",
       "std    0.066261   5.066228  0.534522   3.352327\n",
       "min    1.680000  68.000000  0.000000  30.000000\n",
       "25%    1.745000  71.500000  0.000000  32.500000\n",
       "50%    1.770000  73.000000  0.000000  35.000000\n",
       "75%    1.840000  75.000000  1.000000  37.000000\n",
       "max    1.860000  84.000000  1.000000  39.000000"
      ]
     },
     "execution_count": 4,
     "metadata": {},
     "output_type": "execute_result"
    }
   ],
   "source": [
    "data.describe()"
   ]
  },
  {
   "cell_type": "code",
   "execution_count": 5,
   "metadata": {},
   "outputs": [
    {
     "name": "stdout",
     "output_type": "stream",
     "text": [
      "<class 'pandas.core.frame.DataFrame'>\n",
      "RangeIndex: 7 entries, 0 to 6\n",
      "Data columns (total 5 columns):\n",
      " #   Column     Non-Null Count  Dtype  \n",
      "---  ------     --------------  -----  \n",
      " 0   name       7 non-null      object \n",
      " 1   height     7 non-null      float64\n",
      " 2   weight_kg  7 non-null      int64  \n",
      " 3   gender     7 non-null      int64  \n",
      " 4   age        7 non-null      int64  \n",
      "dtypes: float64(1), int64(3), object(1)\n",
      "memory usage: 408.0+ bytes\n"
     ]
    }
   ],
   "source": [
    "data.info()"
   ]
  },
  {
   "cell_type": "markdown",
   "metadata": {},
   "source": [
    "### Encoding label gender"
   ]
  },
  {
   "cell_type": "code",
   "execution_count": 6,
   "metadata": {},
   "outputs": [],
   "source": [
    "data['gender'] = data['gender'].map({1:'Female', 0:'Male'})"
   ]
  },
  {
   "cell_type": "markdown",
   "metadata": {},
   "source": [
    "### Plots\n",
    "\n",
    "#### Heights and genders"
   ]
  },
  {
   "cell_type": "code",
   "execution_count": 7,
   "metadata": {},
   "outputs": [],
   "source": [
    "fig = px.box(data, x='gender', y='height', color='gender', \\\n",
    "            title=\"Heights and genders\", \\\n",
    "             labels=labels_dict)\n",
    "\n",
    "output = fig.write_image(f\"{images_output}/heights_and_genders.png\")"
   ]
  },
  {
   "cell_type": "markdown",
   "metadata": {},
   "source": [
    "#### Weight by age"
   ]
  },
  {
   "cell_type": "code",
   "execution_count": 17,
   "metadata": {},
   "outputs": [],
   "source": [
    "fig = px.scatter(data, x='weight_kg', y='age', color='gender', \\\n",
    "                 labels=labels_dict,\n",
    "                 title= 'Weight by age')\n",
    "output = fig.write_image(f\"{images_output}/weight_by_age.png\")"
   ]
  },
  {
   "cell_type": "markdown",
   "metadata": {},
   "source": [
    "#### Age average\n",
    "\n",
    "Difference of every age from the mean of all ages (`age_diff_mean`)"
   ]
  },
  {
   "cell_type": "code",
   "execution_count": 9,
   "metadata": {},
   "outputs": [
    {
     "data": {
      "text/html": [
       "<div>\n",
       "<style scoped>\n",
       "    .dataframe tbody tr th:only-of-type {\n",
       "        vertical-align: middle;\n",
       "    }\n",
       "\n",
       "    .dataframe tbody tr th {\n",
       "        vertical-align: top;\n",
       "    }\n",
       "\n",
       "    .dataframe thead th {\n",
       "        text-align: right;\n",
       "    }\n",
       "</style>\n",
       "<table border=\"1\" class=\"dataframe\">\n",
       "  <thead>\n",
       "    <tr style=\"text-align: right;\">\n",
       "      <th></th>\n",
       "      <th>name</th>\n",
       "      <th>height</th>\n",
       "      <th>weight_kg</th>\n",
       "      <th>gender</th>\n",
       "      <th>age</th>\n",
       "      <th>age_diff_mean</th>\n",
       "    </tr>\n",
       "  </thead>\n",
       "  <tbody>\n",
       "    <tr>\n",
       "      <th>0</th>\n",
       "      <td>Jhon</td>\n",
       "      <td>1.85</td>\n",
       "      <td>76</td>\n",
       "      <td>Male</td>\n",
       "      <td>34</td>\n",
       "      <td>-0.7</td>\n",
       "    </tr>\n",
       "    <tr>\n",
       "      <th>1</th>\n",
       "      <td>Sophia</td>\n",
       "      <td>1.68</td>\n",
       "      <td>68</td>\n",
       "      <td>Female</td>\n",
       "      <td>38</td>\n",
       "      <td>3.3</td>\n",
       "    </tr>\n",
       "    <tr>\n",
       "      <th>2</th>\n",
       "      <td>Marian</td>\n",
       "      <td>1.74</td>\n",
       "      <td>71</td>\n",
       "      <td>Female</td>\n",
       "      <td>35</td>\n",
       "      <td>0.3</td>\n",
       "    </tr>\n",
       "    <tr>\n",
       "      <th>3</th>\n",
       "      <td>Louise</td>\n",
       "      <td>1.75</td>\n",
       "      <td>73</td>\n",
       "      <td>Female</td>\n",
       "      <td>31</td>\n",
       "      <td>-3.7</td>\n",
       "    </tr>\n",
       "    <tr>\n",
       "      <th>4</th>\n",
       "      <td>George</td>\n",
       "      <td>1.77</td>\n",
       "      <td>72</td>\n",
       "      <td>Male</td>\n",
       "      <td>30</td>\n",
       "      <td>-4.7</td>\n",
       "    </tr>\n",
       "  </tbody>\n",
       "</table>\n",
       "</div>"
      ],
      "text/plain": [
       "     name  height  weight_kg  gender  age  age_diff_mean\n",
       "0    Jhon    1.85         76    Male   34           -0.7\n",
       "1  Sophia    1.68         68  Female   38            3.3\n",
       "2  Marian    1.74         71  Female   35            0.3\n",
       "3  Louise    1.75         73  Female   31           -3.7\n",
       "4  George    1.77         72    Male   30           -4.7"
      ]
     },
     "execution_count": 9,
     "metadata": {},
     "output_type": "execute_result"
    }
   ],
   "source": [
    "age_mean = data['age'].mean()\n",
    "data['age_diff_mean'] = round(data['age'] - age_mean,1)\n",
    "data.head()"
   ]
  },
  {
   "cell_type": "code",
   "execution_count": 18,
   "metadata": {},
   "outputs": [],
   "source": [
    "margin = 0.50\n",
    "fig = go.Figure()\n",
    "fig.add_trace(go.Bar(x=data['name'], y=data['age'], name=\"Ages\"))\n",
    "\n",
    "fig.add_shape(\n",
    "    type='line',\n",
    "    x0=margin - (2 * margin), \n",
    "    y0=age_mean,\n",
    "    x1=len(data['name'])-margin, \n",
    "    y1=age_mean, \n",
    "    line=dict(color='black', width=1, dash='dash')\n",
    ")\n",
    "\n",
    "fig.update_layout(\n",
    "    title=\"Ages relatives to mean [{} years]\".format(round(age_mean, 1)) ,\n",
    "    xaxis=dict(title='Persons'),\n",
    "    yaxis=dict(title='Ages'),\n",
    "    showlegend=False\n",
    ")\n",
    "\n",
    "output = fig.write_image(f\"{images_output}/ages_relatives_to_mean.png\")"
   ]
  },
  {
   "cell_type": "markdown",
   "metadata": {},
   "source": [
    "## Holidays\n",
    "\n",
    "### Load data\n",
    "\n",
    "The holidays file is in spanish (holidays, festivos, feriados)."
   ]
  },
  {
   "cell_type": "code",
   "execution_count": 11,
   "metadata": {},
   "outputs": [
    {
     "name": "stdout",
     "output_type": "stream",
     "text": [
      "Shape:  (22, 14)\n",
      "Fields:  Index(['Pais', 'Región', 'Dias Festivos/año', 'Pib per cápita', '% Desempleo',\n",
      "       'Muertes Vx100.000h', '% Informalidad', 'Ranking felicidad',\n",
      "       'Puntaje felicidad', 'Ranking competitividad', 'puntaje competitividad',\n",
      "       'Ranking doing business', 'Puntaje doing business', 'Expectativa vida'],\n",
      "      dtype='object')\n"
     ]
    }
   ],
   "source": [
    "holidays = pd.read_csv(holidays_file)\n",
    "print(\"Shape: \", holidays.shape)\n",
    "print(\"Fields: \", holidays.columns)"
   ]
  },
  {
   "cell_type": "code",
   "execution_count": 12,
   "metadata": {},
   "outputs": [
    {
     "data": {
      "text/html": [
       "<div>\n",
       "<style scoped>\n",
       "    .dataframe tbody tr th:only-of-type {\n",
       "        vertical-align: middle;\n",
       "    }\n",
       "\n",
       "    .dataframe tbody tr th {\n",
       "        vertical-align: top;\n",
       "    }\n",
       "\n",
       "    .dataframe thead th {\n",
       "        text-align: right;\n",
       "    }\n",
       "</style>\n",
       "<table border=\"1\" class=\"dataframe\">\n",
       "  <thead>\n",
       "    <tr style=\"text-align: right;\">\n",
       "      <th></th>\n",
       "      <th>Pais</th>\n",
       "      <th>Región</th>\n",
       "      <th>Dias Festivos/año</th>\n",
       "      <th>Pib per cápita</th>\n",
       "      <th>% Desempleo</th>\n",
       "      <th>Muertes Vx100.000h</th>\n",
       "      <th>% Informalidad</th>\n",
       "      <th>Ranking felicidad</th>\n",
       "      <th>Puntaje felicidad</th>\n",
       "      <th>Ranking competitividad</th>\n",
       "      <th>puntaje competitividad</th>\n",
       "      <th>Ranking doing business</th>\n",
       "      <th>Puntaje doing business</th>\n",
       "      <th>Expectativa vida</th>\n",
       "    </tr>\n",
       "  </thead>\n",
       "  <tbody>\n",
       "    <tr>\n",
       "      <th>0</th>\n",
       "      <td>Colombia</td>\n",
       "      <td>Sur America</td>\n",
       "      <td>18</td>\n",
       "      <td>14100</td>\n",
       "      <td>9.2</td>\n",
       "      <td>37.60</td>\n",
       "      <td>64.0</td>\n",
       "      <td>36</td>\n",
       "      <td>6537</td>\n",
       "      <td>61</td>\n",
       "      <td>4.30</td>\n",
       "      <td>54</td>\n",
       "      <td>70.4</td>\n",
       "      <td>74</td>\n",
       "    </tr>\n",
       "    <tr>\n",
       "      <th>1</th>\n",
       "      <td>Brasil</td>\n",
       "      <td>Sur America</td>\n",
       "      <td>12</td>\n",
       "      <td>15200</td>\n",
       "      <td>11.5</td>\n",
       "      <td>30.53</td>\n",
       "      <td>37.0</td>\n",
       "      <td>22</td>\n",
       "      <td>6635</td>\n",
       "      <td>81</td>\n",
       "      <td>4.06</td>\n",
       "      <td>116</td>\n",
       "      <td>57.7</td>\n",
       "      <td>75</td>\n",
       "    </tr>\n",
       "    <tr>\n",
       "      <th>2</th>\n",
       "      <td>Argentina</td>\n",
       "      <td>Sur America</td>\n",
       "      <td>16</td>\n",
       "      <td>20000</td>\n",
       "      <td>6.6</td>\n",
       "      <td>7.62</td>\n",
       "      <td>47.0</td>\n",
       "      <td>24</td>\n",
       "      <td>6599</td>\n",
       "      <td>104</td>\n",
       "      <td>3.81</td>\n",
       "      <td>121</td>\n",
       "      <td>56.8</td>\n",
       "      <td>76</td>\n",
       "    </tr>\n",
       "    <tr>\n",
       "      <th>3</th>\n",
       "      <td>Chile</td>\n",
       "      <td>Sur America</td>\n",
       "      <td>15</td>\n",
       "      <td>24100</td>\n",
       "      <td>6.6</td>\n",
       "      <td>3.88</td>\n",
       "      <td>33.0</td>\n",
       "      <td>20</td>\n",
       "      <td>6652</td>\n",
       "      <td>33</td>\n",
       "      <td>4.64</td>\n",
       "      <td>48</td>\n",
       "      <td>71.5</td>\n",
       "      <td>79</td>\n",
       "    </tr>\n",
       "    <tr>\n",
       "      <th>4</th>\n",
       "      <td>Venezuela</td>\n",
       "      <td>Sur America</td>\n",
       "      <td>14</td>\n",
       "      <td>13800</td>\n",
       "      <td>6.9</td>\n",
       "      <td>47.04</td>\n",
       "      <td>48.0</td>\n",
       "      <td>82</td>\n",
       "      <td>5250</td>\n",
       "      <td>130</td>\n",
       "      <td>3.27</td>\n",
       "      <td>186</td>\n",
       "      <td>35.5</td>\n",
       "      <td>74</td>\n",
       "    </tr>\n",
       "  </tbody>\n",
       "</table>\n",
       "</div>"
      ],
      "text/plain": [
       "        Pais       Región  Dias Festivos/año  Pib per cápita  % Desempleo  \\\n",
       "0   Colombia  Sur America                 18           14100          9.2   \n",
       "1     Brasil  Sur America                 12           15200         11.5   \n",
       "2  Argentina  Sur America                 16           20000          6.6   \n",
       "3      Chile  Sur America                 15           24100          6.6   \n",
       "4  Venezuela  Sur America                 14           13800          6.9   \n",
       "\n",
       "   Muertes Vx100.000h  % Informalidad  Ranking felicidad  Puntaje felicidad  \\\n",
       "0               37.60            64.0                 36               6537   \n",
       "1               30.53            37.0                 22               6635   \n",
       "2                7.62            47.0                 24               6599   \n",
       "3                3.88            33.0                 20               6652   \n",
       "4               47.04            48.0                 82               5250   \n",
       "\n",
       "   Ranking competitividad  puntaje competitividad  Ranking doing business  \\\n",
       "0                      61                    4.30                      54   \n",
       "1                      81                    4.06                     116   \n",
       "2                     104                    3.81                     121   \n",
       "3                      33                    4.64                      48   \n",
       "4                     130                    3.27                     186   \n",
       "\n",
       "   Puntaje doing business  Expectativa vida  \n",
       "0                    70.4                74  \n",
       "1                    57.7                75  \n",
       "2                    56.8                76  \n",
       "3                    71.5                79  \n",
       "4                    35.5                74  "
      ]
     },
     "execution_count": 12,
     "metadata": {},
     "output_type": "execute_result"
    }
   ],
   "source": [
    "holidays.head()"
   ]
  },
  {
   "cell_type": "markdown",
   "metadata": {},
   "source": [
    "### GDP _per capita_ by region\n",
    "\n",
    "Is insterting to see that europe is the region that have the min distance between the mean and Q3, this means that the average of incomes is \"close\" to the roof of box, in all other regions the distance is grater. Unfortunelly, we haven't data from north América. "
   ]
  },
  {
   "cell_type": "code",
   "execution_count": 19,
   "metadata": {},
   "outputs": [],
   "source": [
    "fig = px.box(holidays, x='Región', y='Pib per cápita', color='Región', \n",
    "             title='GDP per capita by Region', labels=labels_dict)\n",
    "fig.update_layout(title_font_family='Ubuntu')\n",
    "output = fig.write_image(f\"{images_output}/gdp_by_region.png\")"
   ]
  },
  {
   "cell_type": "markdown",
   "metadata": {},
   "source": [
    "### Holidays vs GDP/Year, by Region\n",
    "\n",
    "The red line indicates the mean of each GDP by number of holidays. We can see that the best performance is between 14 and 16 holidays per year. "
   ]
  },
  {
   "cell_type": "code",
   "execution_count": 14,
   "metadata": {},
   "outputs": [],
   "source": [
    "\n",
    "gdp_mean = holidays.groupby('Dias Festivos/año').agg(gdp=('Pib per cápita', 'mean'))\n",
    "gdp_mean.gdp = gdp_mean.gdp.astype(int)"
   ]
  },
  {
   "cell_type": "code",
   "execution_count": 20,
   "metadata": {},
   "outputs": [],
   "source": [
    "\n",
    "fig = go.Figure()\n",
    "fig.add_trace(go.Scatter(x = holidays['Dias Festivos/año'], \\\n",
    "                         y = holidays['Pib per cápita'], \\\n",
    "                        mode='markers', \\\n",
    "                        hoverinfo='all', \\\n",
    "                        text=holidays['Pais'])\n",
    "        )\n",
    "\n",
    "fig.add_trace(go.Scatter(x=gdp_mean.index, y=gdp_mean.gdp, name='GDP mean', text=gdp_mean.gdp, \\\n",
    "        mode='lines', line=dict(color='red', width=1, dash='dot')))\n",
    "\n",
    "\n",
    "fig.update_layout(\n",
    "    title=\"GDP of countries by number of holidays\",\n",
    "    xaxis=dict(title='Number of holidays'),\n",
    "    yaxis=dict(title='GDP (US Million Dollars)'),\n",
    "    showlegend=False\n",
    ")\n",
    "\n",
    "output = fig.write_image(f\"{images_output}/gdp_by_numer_regions.png\")"
   ]
  },
  {
   "cell_type": "markdown",
   "metadata": {},
   "source": [
    "### Holidays 3D, GDP/Year, Happiness Ranking, by Region"
   ]
  },
  {
   "cell_type": "code",
   "execution_count": 21,
   "metadata": {},
   "outputs": [],
   "source": [
    "fig = px.scatter_3d(holidays, \n",
    "                    x='Dias Festivos/año', \n",
    "                    y='Pib per cápita', \n",
    "                    z='Ranking felicidad',\n",
    "                    color='Pais', labels=labels_dict, \n",
    "                 title='Holidays, GDP/Year, Happiness Ranking, by Region')\n",
    "output = fig.write_image(f\"{images_output}/holidays_happiness_rank.png\")"
   ]
  }
 ],
 "metadata": {
  "kernelspec": {
   "display_name": "Python 3",
   "language": "python",
   "name": "python3"
  },
  "language_info": {
   "codemirror_mode": {
    "name": "ipython",
    "version": 3
   },
   "file_extension": ".py",
   "mimetype": "text/x-python",
   "name": "python",
   "nbconvert_exporter": "python",
   "pygments_lexer": "ipython3",
   "version": "3.10.12"
  },
  "orig_nbformat": 4
 },
 "nbformat": 4,
 "nbformat_minor": 2
}
