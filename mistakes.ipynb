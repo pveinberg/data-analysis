{
 "cells": [
  {
   "attachments": {},
   "cell_type": "markdown",
   "metadata": {},
   "source": [
    "# 25 Mistakes You Shouldn't Make\n",
    "\n",
    "Tests and implements from [here](https://youtu.be/_gaAoJBMJ_Q)"
   ]
  },
  {
   "cell_type": "markdown",
   "metadata": {},
   "source": [
    "## Imports"
   ]
  },
  {
   "cell_type": "code",
   "execution_count": null,
   "metadata": {},
   "outputs": [],
   "source": [
    "import pandas as pd\n",
    "import numpy as np\n",
    "import matplotlib.pyplot as plt"
   ]
  },
  {
   "attachments": {},
   "cell_type": "markdown",
   "metadata": {},
   "source": [
    "## 01/25 - Read an CSV with an unnecessary index"
   ]
  },
  {
   "cell_type": "code",
   "execution_count": null,
   "metadata": {},
   "outputs": [],
   "source": [
    "# The column 'id' (in this context) is an unnecessary feature. \n",
    "# We let to use just the usefull columns\n",
    "\n",
    "usefull_columns = ['work_year', 'experience_level', 'employment_type', 'job_title', 'salary', 'salary_currency', \\\n",
    "                   'salary_in_usd', 'employee_residence', 'remote_ratio', 'company_location', 'company_size']\n",
    "\n",
    "salaries_df = pd.read_csv('job_salaries.zip', compression='zip', usecols=usefull_columns)\n",
    "\n",
    "display(salaries_df.shape, salaries_df.head())"
   ]
  },
  {
   "attachments": {},
   "cell_type": "markdown",
   "metadata": {},
   "source": [
    "## 02/25 - Spaces in columns\n",
    "\n",
    "When columns has spaces isn't possible to use dot notation"
   ]
  },
  {
   "cell_type": "code",
   "execution_count": null,
   "metadata": {},
   "outputs": [],
   "source": [
    "# Creating DataFrame\n",
    "data_dict = {\n",
    "    'Age Person': np.random.randint(10, 100, 200), \n",
    "    'pression value': np.random.random(200) }\n",
    "\n",
    "data = pd.DataFrame(data = data_dict)\n",
    "display(data.columns)\n",
    "\n",
    "# To use the notation [df].[column] is necessary that the column name haven't blank spaces. \n",
    "\n",
    "# It's possible to alter fields names\n",
    "data.columns = ['age_person', 'pression_value']\n",
    "display(data.columns)\n",
    "\n",
    "# or ...\n",
    "data.rename(columns={'age_person': 'AgePerson', 'pression_value': 'PressionValue'}, inplace=True)\n",
    "display(data.columns)"
   ]
  },
  {
   "attachments": {},
   "cell_type": "markdown",
   "metadata": {},
   "source": [
    "## 03/25 - Use Queries"
   ]
  },
  {
   "cell_type": "code",
   "execution_count": null,
   "metadata": {},
   "outputs": [],
   "source": [
    "# Using salaries dataframe (01/25)\n",
    "\n",
    "# Filtering work year = 2020\n",
    "display(salaries_df.query(\"work_year == 2020\").head())\n",
    "\n",
    "# Filtering US Dollar Salaries more than the mean\n",
    "salary_mean = int(salaries_df.salary_in_usd.mean())\n",
    "salaries_more_than_mean = salaries_df.query(f\"salary_in_usd > @salary_mean\")\n",
    "display(f\"Salaries mean (USD) = {salary_mean}\", salaries_more_than_mean.head())"
   ]
  },
  {
   "attachments": {},
   "cell_type": "markdown",
   "metadata": {},
   "source": [
    "## 05/25 - Use 'inplace'"
   ]
  },
  {
   "cell_type": "code",
   "execution_count": null,
   "metadata": {},
   "outputs": [],
   "source": [
    "# data.reset_index(inplace=True)\n",
    "data.rename(columns={'AgePerson': 'age_person', 'PressionValue': 'pression_value'}, inplace=True)\n",
    "display(data.columns)"
   ]
  },
  {
   "attachments": {},
   "cell_type": "markdown",
   "metadata": {},
   "source": [
    "## 06/25 - Use vectorization"
   ]
  },
  {
   "cell_type": "code",
   "execution_count": null,
   "metadata": {},
   "outputs": [],
   "source": [
    "# Creating a new column with criteria dependent on other \n",
    "salaries_df['is_recent'] = salaries_df['work_year'] > 2021\n",
    "\n",
    "# then show recents ...\n",
    "display(salaries_df[salaries_df['is_recent']].sample(5))\n",
    "\n",
    "# ... and oldies\n",
    "display(salaries_df[~salaries_df['is_recent']].sample(5))"
   ]
  },
  {
   "attachments": {},
   "cell_type": "markdown",
   "metadata": {},
   "source": [
    "## 07/25 - Use apply method"
   ]
  },
  {
   "cell_type": "code",
   "execution_count": null,
   "metadata": {},
   "outputs": [],
   "source": [
    "# Use apply method over the vars. In this case, we calculate the exchange rate dividing the salary (anyone currency) \n",
    "# by the salary in USD, when the salary is expressed in USD, the rate will be 1.0, of course\n",
    "\n",
    "salaries_df['exchange'] = salaries_df.apply(lambda row : row.salary/ row.salary_in_usd, axis=1)\n",
    "salaries_df.sample(5)"
   ]
  },
  {
   "attachments": {},
   "cell_type": "markdown",
   "metadata": {},
   "source": [
    "## 08/25 - Use copy to make a new DataFrame"
   ]
  },
  {
   "cell_type": "code",
   "execution_count": null,
   "metadata": {},
   "outputs": [],
   "source": [
    "data_recent = salaries_df.loc[salaries_df.work_year > 2021].copy()\n",
    "data_recent.head()"
   ]
  },
  {
   "cell_type": "markdown",
   "metadata": {},
   "source": [
    "## 09/25 - Don't create multiple intermediate dataframes "
   ]
  },
  {
   "cell_type": "code",
   "execution_count": null,
   "metadata": {},
   "outputs": [],
   "source": [
    "# the best choice is use enchainment \n",
    "data_out = (salaries_df.query('work_year == 2021') \\\n",
    "    .groupby('employment_type')[['salary_in_usd']] \\\n",
    "    .max().sort_values('employment_type')) \\\n",
    "    .reset_index().copy()\n",
    "\n",
    "data_out.head()"
   ]
  },
  {
   "attachments": {},
   "cell_type": "markdown",
   "metadata": {},
   "source": [
    "## 10/25 - Always work with appropriate types\n",
    "\n",
    "In [jobs-salaries file](./job-salaries.ipynb) we handle and cast types"
   ]
  },
  {
   "cell_type": "code",
   "execution_count": null,
   "metadata": {},
   "outputs": [],
   "source": [
    "salaries_df.info()"
   ]
  },
  {
   "attachments": {},
   "cell_type": "markdown",
   "metadata": {},
   "source": [
    "## 11/25 - Use boolean instead of string values"
   ]
  },
  {
   "cell_type": "code",
   "execution_count": null,
   "metadata": {},
   "outputs": [],
   "source": [
    "salaries_df['salary_over_100_000'] = salaries_df.apply(lambda row : 'yes' if row['salary_in_usd'] > 100_000 else 'no', axis=1)\n",
    "\n",
    "# and then change ...\n",
    "salaries_df.salary_over_100_000 = salaries_df.salary_over_100_000.map({'yes':True, 'no':False})\n",
    "\n",
    "salaries_df.sample(10)"
   ]
  },
  {
   "attachments": {},
   "cell_type": "markdown",
   "metadata": {},
   "source": [
    "## 12/25 - Prefer quick plot"
   ]
  },
  {
   "cell_type": "code",
   "execution_count": null,
   "metadata": {},
   "outputs": [],
   "source": [
    "# \"Long\" method\n",
    "fig, ax = plt.subplots(figsize=(10,15))\n",
    "plt.boxplot(salaries_df.salary_in_usd.values)\n",
    "ax.set_title('Salaries')\n",
    "plt.show()"
   ]
  },
  {
   "cell_type": "code",
   "execution_count": null,
   "metadata": {},
   "outputs": [],
   "source": [
    "# Simplified new \"short\" method\n",
    "salaries_df.boxplot(column=['salary_in_usd'])"
   ]
  },
  {
   "cell_type": "markdown",
   "metadata": {},
   "source": [
    "## 13/25 - Use string method directly in array (column)"
   ]
  },
  {
   "cell_type": "code",
   "execution_count": null,
   "metadata": {},
   "outputs": [],
   "source": [
    "salaries_df['job_title'] = list(salaries_df.job_title.str.upper())\n",
    "salaries_df.sample(5)"
   ]
  },
  {
   "attachments": {},
   "cell_type": "markdown",
   "metadata": {},
   "source": [
    "## 14/25 - Don't repeat code"
   ]
  },
  {
   "cell_type": "code",
   "execution_count": null,
   "metadata": {},
   "outputs": [],
   "source": [
    "# Build some dataframes (by year) and calculate the mean of salaries into each one of them\n",
    "years = salaries_df.work_year.unique()\n",
    "result = {}\n",
    "\n",
    "def salary_mean(_df:pd.DataFrame, _year:int):\n",
    "    result = _df.loc[_df.work_year == _year].copy()\n",
    "    result['mean_no_sense'] = result.apply(lambda row : np.mean([row.salary, row.salary_in_usd]), axis=1)\n",
    "    return result\n",
    "\n",
    "dataframes = [salary_mean(salaries_df, year) for year in years]\n",
    "\n",
    "dataframes[0].head()"
   ]
  },
  {
   "attachments": {},
   "cell_type": "markdown",
   "metadata": {},
   "source": [
    "## 15/25 - Rename columns"
   ]
  },
  {
   "cell_type": "code",
   "execution_count": null,
   "metadata": {},
   "outputs": [],
   "source": [
    "# Get old columns\n",
    "old_columns = salaries_df.columns.to_list()\n",
    "\n",
    "# Create new columns\n",
    "new_columns = [f\"new_{col}\" for col in old_columns]\n",
    "\n",
    "# Rename columns in dataframe\n",
    "salaries_df.columns = new_columns\n",
    "\n",
    "display(old_columns, salaries_df.columns)\n",
    "\n",
    "# Rollback\n",
    "salaries_df.columns = old_columns"
   ]
  },
  {
   "attachments": {},
   "cell_type": "markdown",
   "metadata": {},
   "source": [
    "## 16/25 - Don't aggregate groups manually"
   ]
  },
  {
   "cell_type": "code",
   "execution_count": null,
   "metadata": {},
   "outputs": [],
   "source": [
    "# Mean of salaries by currency\n",
    "mean_salaries_by_currency = salaries_df.groupby('salary_currency')['salary_in_usd'].mean()\n",
    "\n",
    "plt.barh(mean_salaries_by_currency.index, \n",
    "    mean_salaries_by_currency.values)\n",
    "\n",
    "plt.show()"
   ]
  },
  {
   "attachments": {},
   "cell_type": "markdown",
   "metadata": {},
   "source": [
    "## 17/25 - Aggregate multiple informations"
   ]
  },
  {
   "cell_type": "code",
   "execution_count": null,
   "metadata": {},
   "outputs": [],
   "source": [
    "aggregate_data = salaries_df.groupby('work_year')['salary_in_usd'].agg(['min','max','mean','count'])\n",
    "display(aggregate_data)"
   ]
  },
  {
   "attachments": {},
   "cell_type": "markdown",
   "metadata": {},
   "source": [
    "## 18/25 - View changes"
   ]
  },
  {
   "cell_type": "code",
   "execution_count": null,
   "metadata": {},
   "outputs": [],
   "source": [
    "# Add columns to follow the changes\n",
    "aggregate_data['pct_change_mean'] = aggregate_data['mean'].pct_change()\n",
    "aggregate_data['diff_mean'] = aggregate_data['mean'].diff()\n",
    "\n",
    "display(aggregate_data)"
   ]
  },
  {
   "attachments": {},
   "cell_type": "markdown",
   "metadata": {},
   "source": [
    "## 19/25 - Don't save in _CSV_ when is not necessary; use more efficient formats (like _parquet_)"
   ]
  },
  {
   "cell_type": "code",
   "execution_count": null,
   "metadata": {},
   "outputs": [],
   "source": [
    "salaries_df.to_parquet('salaries.parquet')"
   ]
  },
  {
   "cell_type": "code",
   "execution_count": null,
   "metadata": {},
   "outputs": [],
   "source": [
    "%%time\n",
    "# The parquet file have more data\n",
    "result = pd.read_parquet('salaries.parquet')"
   ]
  },
  {
   "attachments": {},
   "cell_type": "markdown",
   "metadata": {},
   "source": [
    "## 20/25 - Use styles in pandas dataframe"
   ]
  },
  {
   "cell_type": "code",
   "execution_count": null,
   "metadata": {},
   "outputs": [],
   "source": [
    "salaries_df.sort_values(['work_year', 'salary_in_usd']) \\\n",
    "    .head(15)[['salary_in_usd']] \\\n",
    "    .reset_index(drop=True) \\\n",
    "    .style.background_gradient(cmap='Reds')"
   ]
  },
  {
   "attachments": {},
   "cell_type": "markdown",
   "metadata": {},
   "source": [
    "## 21/25 - Do not use _x and _y when merging 2 datasets ...\n",
    "### ... prefer to use words from the context (domain)"
   ]
  },
  {
   "cell_type": "code",
   "execution_count": null,
   "metadata": {},
   "outputs": [],
   "source": [
    "# The var 'dataframes' was declared in the 14 tip\n",
    "# Warning! This script don't make sense!!\n",
    "\n",
    "salaries_merged = dataframes[0].merge(dataframes[1], on=['job_title'], suffixes=('_2020', '_2021'))\n",
    "salaries_merged.sample(10)"
   ]
  },
  {
   "attachments": {},
   "cell_type": "markdown",
   "metadata": {},
   "source": [
    "## 22/25 - Count result from merge\n",
    "### ... and use 'assert' to test!"
   ]
  },
  {
   "cell_type": "code",
   "execution_count": null,
   "metadata": {},
   "outputs": [],
   "source": [
    "assert len(salaries_merged) == 1606, \"The len of 'salaries_merged' must be equal 1606\""
   ]
  },
  {
   "attachments": {},
   "cell_type": "markdown",
   "metadata": {},
   "source": [
    "## 23/25 - Staking change command in one line of code"
   ]
  },
  {
   "cell_type": "code",
   "execution_count": null,
   "metadata": {},
   "outputs": [],
   "source": [
    "salaries_df2 = (salaries_df.sort_values('job_title', ascending=False)\n",
    "    .groupby('work_year'))\n",
    "\n",
    "display(salaries_df2.head())"
   ]
  },
  {
   "attachments": {},
   "cell_type": "markdown",
   "metadata": {},
   "source": [
    "## 24/25 - Prefer 'category' as a data type to spend less memory"
   ]
  },
  {
   "cell_type": "code",
   "execution_count": null,
   "metadata": {},
   "outputs": [],
   "source": [
    "d2 = salaries_df[['employment_type']].copy()\n",
    "d2.info()"
   ]
  },
  {
   "cell_type": "code",
   "execution_count": null,
   "metadata": {},
   "outputs": [],
   "source": [
    "d2['employment_type'] = d2['employment_type'].astype('category')\n",
    "d2.info()"
   ]
  },
  {
   "attachments": {},
   "cell_type": "markdown",
   "metadata": {},
   "source": [
    "## 25/25 - Remove or avoid duplicated columns"
   ]
  },
  {
   "cell_type": "code",
   "execution_count": null,
   "metadata": {},
   "outputs": [],
   "source": [
    "df_duplicate = pd.concat([salaries_df, dataframes[1]], axis=1)\n",
    "df_duplicate = df_duplicate.loc[:,~df_duplicate.columns.duplicated()].copy()\n",
    "df_duplicate['job_title'].head()"
   ]
  }
 ],
 "metadata": {
  "kernelspec": {
   "display_name": "Python 3",
   "language": "python",
   "name": "python3"
  },
  "language_info": {
   "codemirror_mode": {
    "name": "ipython",
    "version": 3
   },
   "file_extension": ".py",
   "mimetype": "text/x-python",
   "name": "python",
   "nbconvert_exporter": "python",
   "pygments_lexer": "ipython3",
   "version": "3.10.6"
  },
  "orig_nbformat": 4,
  "vscode": {
   "interpreter": {
    "hash": "0eda1227dff56cef3366f7e157bf9b50addc429be250f8d0b3928c5997fa8f19"
   }
  }
 },
 "nbformat": 4,
 "nbformat_minor": 2
}
